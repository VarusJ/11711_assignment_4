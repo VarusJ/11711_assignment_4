{
 "cells": [
  {
   "cell_type": "code",
   "execution_count": 8,
   "metadata": {},
   "outputs": [],
   "source": [
    "import pandas as pd \n",
    "from data_loader import GoEmotionsProcessor \n",
    "import numpy as np "
   ]
  },
  {
   "cell_type": "code",
   "execution_count": null,
   "metadata": {},
   "outputs": [],
   "source": [
    "# read training data\n",
    "args = {\"train_file\": \"train.tsv\"}\n",
    "processer = GoEmotionsProcessor(args = args)\n",
    "\n",
    "examples = processer.get_examples(\"train\")\n",
    "examples"
   ]
  },
  {
   "cell_type": "markdown",
   "metadata": {},
   "source": [
    "# craete a balanced dataset"
   ]
  },
  {
   "cell_type": "code",
   "execution_count": 25,
   "metadata": {},
   "outputs": [],
   "source": [
    "eda_csv_path = 'train_EDA_augmented.tsv'\n",
    "bert_csv_path = 'train_bertEmbed_augmented.tsv'\n",
    "prot_csv_path = 'train_Prot_augmented.tsv'\n",
    "original_csv_path = \"train.tsv\"\n",
    "\n",
    "eda_train = pd.read_csv(eda_csv_path, sep='\\t', header=None)\n",
    "bert_train = pd.read_csv(bert_csv_path, sep='\\t', header=None)\n",
    "prot_train = pd.read_csv(prot_csv_path, sep='\\t', header=None)\n",
    "original_train = pd.read_csv(original_csv_path, sep='\\t', header=None)"
   ]
  },
  {
   "cell_type": "code",
   "execution_count": 59,
   "metadata": {},
   "outputs": [],
   "source": [
    "valid_labels = [str(i) for i in range(28)]\n",
    "temp = original_train[original_train[1].isin(valid_labels)]\n",
    "counts = temp[1].value_counts()\n"
   ]
  },
  {
   "cell_type": "code",
   "execution_count": 41,
   "metadata": {},
   "outputs": [],
   "source": [
    "underperform_labels = [\"16\", \"21\", \"19\", \"23\"]"
   ]
  },
  {
   "cell_type": "markdown",
   "metadata": {},
   "source": [
    "## eda augmented for underperform_labels"
   ]
  },
  {
   "cell_type": "code",
   "execution_count": null,
   "metadata": {},
   "outputs": [],
   "source": [
    "# remove the original train\n",
    "original_length = len(original_train)\n",
    "eda_length = len(eda_train)\n",
    "eda_train_augmented = eda_train.iloc[:(eda_length - original_length), :]\n",
    "\n",
    "eda_augmented_underperform = eda_train_augmented[eda_train_augmented[1].isin(underperform_labels)]\n",
    "eda_augmented_underperform"
   ]
  },
  {
   "cell_type": "code",
   "execution_count": 71,
   "metadata": {},
   "outputs": [],
   "source": [
    "# save eda underperform augmented with original\n",
    "eda_underperformAug_train = pd.concat([original_train, eda_augmented_underperform], axis=0, ignore_index=True)\n",
    "eda_underperformAug_train = eda_underperformAug_train.drop(columns=[2])\n",
    "eda_underperformAug_train.to_csv('train_underperform_EDAaugmented.tsv', sep=\"\\t\", encoding='utf-8', index=False, header=None)\n"
   ]
  },
  {
   "cell_type": "markdown",
   "metadata": {},
   "source": [
    "## bert embeddings for underperform_labels"
   ]
  },
  {
   "cell_type": "code",
   "execution_count": null,
   "metadata": {},
   "outputs": [],
   "source": [
    "# remove the original train\n",
    "original_length = len(original_train)\n",
    "bert_length = len(bert_train)\n",
    "bert_train_augmented = bert_train.iloc[:(bert_length - original_length), :]\n",
    "\n",
    "bert_augmented_underperform = bert_train_augmented[bert_train_augmented[1].isin(underperform_labels)]\n",
    "bert_augmented_underperform\n"
   ]
  },
  {
   "cell_type": "code",
   "execution_count": 73,
   "metadata": {},
   "outputs": [],
   "source": [
    "# save bert embedding underperform augmented with original\n",
    "bert_underperformAug_train = pd.concat([original_train, bert_augmented_underperform], axis=0, ignore_index=True)\n",
    "bert_underperformAug_train = bert_underperformAug_train.drop(columns=[2])\n",
    "bert_underperformAug_train.to_csv('train_underperform_BERTaugmented.tsv', sep=\"\\t\", encoding='utf-8', index=False, header=None)\n"
   ]
  },
  {
   "cell_type": "markdown",
   "metadata": {},
   "source": [
    "## ProAug for underperform labels"
   ]
  },
  {
   "cell_type": "code",
   "execution_count": null,
   "metadata": {},
   "outputs": [],
   "source": [
    "# remove the original train\n",
    "original_length = len(original_train)\n",
    "prot_length = len(prot_train)\n",
    "prot_train_augmented = prot_train.iloc[:(prot_length - original_length), :]\n",
    "\n",
    "prot_augmented_underperform = prot_train_augmented[prot_train_augmented[1].isin(underperform_labels)]\n",
    "prot_augmented_underperform"
   ]
  },
  {
   "cell_type": "code",
   "execution_count": 75,
   "metadata": {},
   "outputs": [],
   "source": [
    "# save bert embedding underperform augmented with original\n",
    "prot_underperformAug_train = pd.concat([original_train, prot_augmented_underperform], axis=0, ignore_index=True)\n",
    "prot_underperformAug_train = prot_underperformAug_train.drop(columns=[2])\n",
    "prot_underperformAug_train.to_csv('train_underperform_PROTaugmented.tsv', sep=\"\\t\", encoding='utf-8', index=False, header=None)\n"
   ]
  },
  {
   "cell_type": "markdown",
   "metadata": {},
   "source": [
    "## concat original train and 3 underperform augmented"
   ]
  },
  {
   "cell_type": "code",
   "execution_count": 57,
   "metadata": {},
   "outputs": [],
   "source": [
    "final_train = pd.concat([original_train, eda_augmented_underperform, bert_augmented_underperform, prot_augmented_underperform], axis=0, ignore_index=True)\n",
    "final_train = final_train.drop(columns=[2])\n",
    "final_train.to_csv('train_underperform_augmented.tsv', sep=\"\\t\", encoding='utf-8', index=False, header=None)\n"
   ]
  },
  {
   "cell_type": "markdown",
   "metadata": {},
   "source": [
    "## concat original train and bertAug and ProtAug"
   ]
  },
  {
   "cell_type": "code",
   "execution_count": 78,
   "metadata": {},
   "outputs": [],
   "source": [
    "two_train = pd.concat([original_train, bert_augmented_underperform, prot_augmented_underperform], axis=0, ignore_index=True)\n",
    "two_train = two_train.drop(columns=[2])\n",
    "two_train.to_csv('bert_prot_augmented.tsv', sep=\"\\t\", encoding='utf-8', index=False, header=None)"
   ]
  },
  {
   "cell_type": "code",
   "execution_count": null,
   "metadata": {},
   "outputs": [],
   "source": [
    "two_train.shape"
   ]
  },
  {
   "cell_type": "markdown",
   "metadata": {},
   "source": [
    "# plot the label distributions"
   ]
  },
  {
   "cell_type": "markdown",
   "metadata": {},
   "source": [
    "## label distribution of orignal dataset"
   ]
  },
  {
   "cell_type": "code",
   "execution_count": null,
   "metadata": {},
   "outputs": [],
   "source": [
    "d = {}\n",
    "key = 0\n",
    "with open(\"labels.txt\", \"r\") as f:\n",
    "    lines = f.readlines()\n",
    "    for line in lines:\n",
    "        d[str(key)] = line.strip()\n",
    "        key += 1\n",
    "\n",
    "print(d)"
   ]
  },
  {
   "cell_type": "code",
   "execution_count": null,
   "metadata": {},
   "outputs": [],
   "source": [
    "valid_labels = [str(i) for i in range(28)]\n",
    "temp = original_train[original_train[1].isin(valid_labels)]\n",
    "original_counts = temp[1].value_counts()\n",
    "original_counts = original_counts.rename(index=d)\n",
    "original_counts.std()"
   ]
  },
  {
   "cell_type": "code",
   "execution_count": null,
   "metadata": {},
   "outputs": [],
   "source": [
    "import matplotlib.pyplot as plt \n",
    "\n",
    "# Plotting\n",
    "plt.style.use('ggplot')\n",
    "plt.figure(figsize=(10, 6))\n",
    "\n",
    "bars = plt.bar(original_counts.index[1:], original_counts.values[1:], color='skyblue', width=0.7, alpha=0.7)\n",
    "for bar in bars[-4:]:\n",
    "    bar.set_color('red')\n",
    "\n",
    "plt.xlabel('Emotion Category', fontsize=10, fontweight='bold')\n",
    "plt.xticks(rotation=90)\n",
    "plt.ylabel('Number of Sample', fontsize=10, fontweight='bold')\n",
    "plt.title('Data Distribution in Original Training Set')\n",
    "\n",
    "plt.grid(True, linestyle='--', alpha=0.8)\n",
    "plt.gca().set_facecolor('whitesmoke')\n",
    "plt.savefig('report/fig/distribution_original.png', bbox_inches='tight', dpi=300)\n",
    "\n",
    "plt.show()\n"
   ]
  },
  {
   "cell_type": "markdown",
   "metadata": {},
   "source": [
    "## label distribution for full augmented dataset"
   ]
  },
  {
   "cell_type": "code",
   "execution_count": null,
   "metadata": {},
   "outputs": [],
   "source": [
    "fullaug_train = pd.read_csv(\"train_Prot_augmented.tsv\", sep='\\t', header=None)\n",
    "fullaug_train"
   ]
  },
  {
   "cell_type": "code",
   "execution_count": null,
   "metadata": {},
   "outputs": [],
   "source": [
    "temp = fullaug_train[fullaug_train[1].isin(valid_labels)]\n",
    "fullaug_counts = temp[1].value_counts()\n",
    "fullaug_counts = fullaug_counts.rename(index=d)\n",
    "fullaug_counts.std()"
   ]
  },
  {
   "cell_type": "code",
   "execution_count": null,
   "metadata": {},
   "outputs": [],
   "source": [
    "# Plotting\n",
    "plt.style.use('ggplot')\n",
    "plt.figure(figsize=(10, 6))\n",
    "\n",
    "bars = plt.bar(fullaug_counts.index[1:], fullaug_counts.values[1:], color='skyblue', width=0.7, alpha=0.7)\n",
    "for bar in bars[-4:]:\n",
    "    bar.set_color('red')\n",
    "\n",
    "plt.xlabel('Emotion Category', fontsize=10, fontweight='bold')\n",
    "plt.xticks(rotation=90)\n",
    "plt.ylabel('Number of Sample', fontsize=10, fontweight='bold')\n",
    "plt.title('Data Distribution in Fully Augmented Training Set')\n",
    "\n",
    "plt.grid(True, linestyle='--', alpha=0.8)\n",
    "plt.gca().set_facecolor('whitesmoke')\n",
    "plt.savefig('report/fig/distribution_fullaug.png', bbox_inches='tight', dpi=300)\n",
    "\n",
    "plt.show()"
   ]
  },
  {
   "cell_type": "markdown",
   "metadata": {},
   "source": [
    "## label distribution for minority augmented dataset"
   ]
  },
  {
   "cell_type": "code",
   "execution_count": null,
   "metadata": {},
   "outputs": [],
   "source": [
    "underperformAug_train = pd.read_csv(\"train_underperform_PROTaugmented.tsv\", sep='\\t', header=None)\n",
    "underperformAug_train"
   ]
  },
  {
   "cell_type": "code",
   "execution_count": null,
   "metadata": {},
   "outputs": [],
   "source": [
    "temp = underperformAug_train[underperformAug_train[1].isin(valid_labels)]\n",
    "underperformAug_counts = temp[1].value_counts()\n",
    "underperformAug_counts = underperformAug_counts.rename(index=d)\n",
    "underperformAug_counts"
   ]
  },
  {
   "cell_type": "code",
   "execution_count": null,
   "metadata": {},
   "outputs": [],
   "source": [
    "# Plotting\n",
    "plt.style.use('ggplot')\n",
    "plt.figure(figsize=(10, 6))\n",
    "\n",
    "bars = plt.bar(underperformAug_counts.index[1:], underperformAug_counts.values[1:], color='skyblue', width=0.7, alpha=0.7)\n",
    "for id in [-2, -8, -3, -10]:\n",
    "    bars[id].set_color('red')\n",
    "\n",
    "plt.xlabel('Emotion Category', fontsize=10, fontweight='bold')\n",
    "plt.xticks(rotation=90)\n",
    "plt.ylabel('Number of Sample', fontsize=10, fontweight='bold')\n",
    "plt.title('Data Distribution in Minority Augmented Training Set')\n",
    "\n",
    "plt.grid(True, linestyle='--', alpha=0.8)\n",
    "plt.gca().set_facecolor('whitesmoke')\n",
    "plt.savefig('report/fig/distribution_minority.png', bbox_inches='tight', dpi=300)\n",
    "\n",
    "plt.show()"
   ]
  },
  {
   "cell_type": "code",
   "execution_count": null,
   "metadata": {},
   "outputs": [],
   "source": []
  }
 ],
 "metadata": {
  "kernelspec": {
   "display_name": "video_processing",
   "language": "python",
   "name": "python3"
  },
  "language_info": {
   "codemirror_mode": {
    "name": "ipython",
    "version": 3
   },
   "file_extension": ".py",
   "mimetype": "text/x-python",
   "name": "python",
   "nbconvert_exporter": "python",
   "pygments_lexer": "ipython3",
   "version": "3.8.0"
  }
 },
 "nbformat": 4,
 "nbformat_minor": 2
}
